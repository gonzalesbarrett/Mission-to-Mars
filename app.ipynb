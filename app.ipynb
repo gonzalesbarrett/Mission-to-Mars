{
 "cells": [
  {
   "cell_type": "code",
   "execution_count": null,
   "id": "a13b557a",
   "metadata": {},
   "outputs": [],
   "source": [
    "# Dependencies\n",
    "from flask import Flask, render_template, request, redirect\n",
    "from flask_pymongo import PyMongo\n",
    "# from flask_table import Table, Col\n",
    "\n",
    "import scraping\n",
    "\n",
    "app = Flask(__name__)\n",
    "\n",
    "# Use flask_pymongo to set up mongo connection\n",
    "app.config['MONGO_URI'] = 'mongodb://localhost:27017/mars_app'\n",
    "mongo = PyMongo(app)\n",
    "\n",
    "# Index route\n",
    "@app.route(\"/\")\n",
    "def index():\n",
    "    mars = mongo.db.mars.find_one()\n",
    "    return render_template(\"index.html\",mars=mars)\n",
    "\n",
    "#  Scrape route\n",
    "@app.route(\"/scrape\")\n",
    "def scrape():\n",
    "    mars = mongo.db.mars\n",
    "    mars_data = scraping.scrape_all()\n",
    "    mars.update({}, mars_data, upsert=True)\n",
    "    return redirect('/', code=302)\n",
    "\n",
    "if __name__ == \"__main__\":\n",
    "    app.run()"
   ]
  },
  {
   "cell_type": "code",
   "execution_count": null,
   "id": "955f9204",
   "metadata": {},
   "outputs": [],
   "source": []
  }
 ],
 "metadata": {
  "kernelspec": {
   "display_name": "Python 3 (ipykernel)",
   "language": "python",
   "name": "python3"
  },
  "language_info": {
   "codemirror_mode": {
    "name": "ipython",
    "version": 3
   },
   "file_extension": ".py",
   "mimetype": "text/x-python",
   "name": "python",
   "nbconvert_exporter": "python",
   "pygments_lexer": "ipython3",
   "version": "3.9.7"
  }
 },
 "nbformat": 4,
 "nbformat_minor": 5
}
